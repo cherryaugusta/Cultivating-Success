{
 "cells": [
  {
   "cell_type": "markdown",
   "id": "d3d001b0-2e2f-4b58-8442-99520bad831f",
   "metadata": {},
   "source": [
    "# Cultivating Success: Leveraging Machine Learning to Optimize Crop Selection\n",
    "Assessing soil health by measuring critical metrics such as nitrogen, phosphorus, potassium levels, and pH is vital for understanding soil conditions. However, this process can be both costly and time-intensive, often leading farmers to prioritize which metrics to measure based on their financial constraints.\n",
    "\n",
    "Farmers face numerous decisions regarding which crops to plant each season, with their primary goal being to optimize crop yield. One significant factor influencing crop performance is soil condition, which can be gauged through measurements of essential elements like nitrogen and potassium. Each crop has specific soil requirements that support its optimal growth and yield.\n",
    "\n",
    "A farmer has sought your expertise in machine learning to help determine the best crop for his field. The dataset provided, named soil_measures.csv, includes the following:\n",
    "\n",
    "\"N\": Nitrogen content ratio in the soil\n",
    "\"P\": Phosphorus content ratio in the soil\n",
    "\"K\": Potassium content ratio in the soil\n",
    "\"pH\": Soil pH value\n",
    "\"crop\": Categorical values representing different crops (target variable).\n",
    "Each entry in this dataset reflects various soil measurements from a specific field, with the crop listed in the \"crop\" column being the ideal choice for that soil condition.\n",
    "\n",
    "The goal of this project is to develop multi-class classification models to predict the crop type and identify the most critical feature contributing to predictive accuracy."
   ]
  },
  {
   "cell_type": "code",
   "execution_count": 17,
   "id": "d0eb4f16-5a99-460d-a5ba-706b7ef0bbe7",
   "metadata": {
    "executionCancelledAt": null,
    "executionTime": 22,
    "id": "bA5ajAmk7XH6",
    "lastExecutedAt": 1710243944653,
    "lastScheduledRunId": null,
    "lastSuccessfullyExecutedCode": "# All required libraries are imported here for you.\nimport pandas as pd\nfrom sklearn.linear_model import LogisticRegression\nfrom sklearn.model_selection import train_test_split\nfrom sklearn import metrics\n\n# Load the dataset\ncrops = pd.read_csv(\"soil_measures.csv\")\n\n# Step 1: Read the data into a pandas DataFrame and perform exploratory data analysis\n\n# Display the first five rows of thedataset\ncrops.head()",
    "outputsMetadata": {
     "0": {
      "height": 195,
      "type": "dataFrame"
     }
    },
    "scrolled": true
   },
   "outputs": [
    {
     "data": {
      "application/com.datacamp.data-table.v2+json": {
       "table": {
        "data": {
         "K": [
          43,
          41,
          44,
          40,
          42
         ],
         "N": [
          90,
          85,
          60,
          74,
          78
         ],
         "P": [
          42,
          58,
          55,
          35,
          42
         ],
         "crop": [
          "rice",
          "rice",
          "rice",
          "rice",
          "rice"
         ],
         "index": [
          0,
          1,
          2,
          3,
          4
         ],
         "ph": [
          6.502985292,
          7.038096361,
          7.840207144,
          6.980400905,
          7.628472891
         ]
        },
        "schema": {
         "fields": [
          {
           "name": "index",
           "type": "integer"
          },
          {
           "name": "N",
           "type": "integer"
          },
          {
           "name": "P",
           "type": "integer"
          },
          {
           "name": "K",
           "type": "integer"
          },
          {
           "name": "ph",
           "type": "number"
          },
          {
           "name": "crop",
           "type": "string"
          }
         ],
         "pandas_version": "1.4.0",
         "primaryKey": [
          "index"
         ]
        }
       },
       "total_rows": 5,
       "truncation_type": null
      },
      "text/html": [
       "<div>\n",
       "<style scoped>\n",
       "    .dataframe tbody tr th:only-of-type {\n",
       "        vertical-align: middle;\n",
       "    }\n",
       "\n",
       "    .dataframe tbody tr th {\n",
       "        vertical-align: top;\n",
       "    }\n",
       "\n",
       "    .dataframe thead th {\n",
       "        text-align: right;\n",
       "    }\n",
       "</style>\n",
       "<table border=\"1\" class=\"dataframe\">\n",
       "  <thead>\n",
       "    <tr style=\"text-align: right;\">\n",
       "      <th></th>\n",
       "      <th>N</th>\n",
       "      <th>P</th>\n",
       "      <th>K</th>\n",
       "      <th>ph</th>\n",
       "      <th>crop</th>\n",
       "    </tr>\n",
       "  </thead>\n",
       "  <tbody>\n",
       "    <tr>\n",
       "      <th>0</th>\n",
       "      <td>90</td>\n",
       "      <td>42</td>\n",
       "      <td>43</td>\n",
       "      <td>6.502985</td>\n",
       "      <td>rice</td>\n",
       "    </tr>\n",
       "    <tr>\n",
       "      <th>1</th>\n",
       "      <td>85</td>\n",
       "      <td>58</td>\n",
       "      <td>41</td>\n",
       "      <td>7.038096</td>\n",
       "      <td>rice</td>\n",
       "    </tr>\n",
       "    <tr>\n",
       "      <th>2</th>\n",
       "      <td>60</td>\n",
       "      <td>55</td>\n",
       "      <td>44</td>\n",
       "      <td>7.840207</td>\n",
       "      <td>rice</td>\n",
       "    </tr>\n",
       "    <tr>\n",
       "      <th>3</th>\n",
       "      <td>74</td>\n",
       "      <td>35</td>\n",
       "      <td>40</td>\n",
       "      <td>6.980401</td>\n",
       "      <td>rice</td>\n",
       "    </tr>\n",
       "    <tr>\n",
       "      <th>4</th>\n",
       "      <td>78</td>\n",
       "      <td>42</td>\n",
       "      <td>42</td>\n",
       "      <td>7.628473</td>\n",
       "      <td>rice</td>\n",
       "    </tr>\n",
       "  </tbody>\n",
       "</table>\n",
       "</div>"
      ],
      "text/plain": [
       "    N   P   K        ph  crop\n",
       "0  90  42  43  6.502985  rice\n",
       "1  85  58  41  7.038096  rice\n",
       "2  60  55  44  7.840207  rice\n",
       "3  74  35  40  6.980401  rice\n",
       "4  78  42  42  7.628473  rice"
      ]
     },
     "execution_count": 17,
     "metadata": {},
     "output_type": "execute_result"
    }
   ],
   "source": [
    "# All required libraries are imported here for you.\n",
    "import pandas as pd\n",
    "from sklearn.linear_model import LogisticRegression\n",
    "from sklearn.model_selection import train_test_split\n",
    "from sklearn import metrics\n",
    "\n",
    "# Load the dataset\n",
    "crops = pd.read_csv(\"soil_measures.csv\")\n",
    "\n",
    "# Step 1: Read the data into a pandas DataFrame and perform exploratory data analysis\n",
    "\n",
    "# Display the first five rows of thedataset\n",
    "crops.head()"
   ]
  },
  {
   "cell_type": "markdown",
   "id": "8dbb778b-186d-48bc-8a90-e5f1d33cc766",
   "metadata": {},
   "source": [
    "\r\n",
    "The initial rows of the dataset `crops` show that all entries correspond to the crop \"rice.\" Each row includes measurements for nitrogen (N), phosphorus (P), potassium (K), and soil pH. The values for these soil metrics vary, but the consistent presence of \"rice\" in the `crop` column suggests that these conditions are optimized for this specific crop type. This indicates that the dataset may be focused on analyzing soil conditions that are particularly suited for rice cultivation."
   ]
  },
  {
   "cell_type": "code",
   "execution_count": 18,
   "id": "3aea5590-1cba-4ab6-a1c7-e93cd3b49d0b",
   "metadata": {
    "executionCancelledAt": null,
    "executionTime": 56,
    "lastExecutedAt": 1710243944709,
    "lastScheduledRunId": null,
    "lastSuccessfullyExecutedCode": "# Display basic information about the dataset\nprint(crops.info())",
    "scrolled": true
   },
   "outputs": [
    {
     "name": "stdout",
     "output_type": "stream",
     "text": [
      "<class 'pandas.core.frame.DataFrame'>\n",
      "RangeIndex: 2200 entries, 0 to 2199\n",
      "Data columns (total 5 columns):\n",
      " #   Column  Non-Null Count  Dtype  \n",
      "---  ------  --------------  -----  \n",
      " 0   N       2200 non-null   int64  \n",
      " 1   P       2200 non-null   int64  \n",
      " 2   K       2200 non-null   int64  \n",
      " 3   ph      2200 non-null   float64\n",
      " 4   crop    2200 non-null   object \n",
      "dtypes: float64(1), int64(3), object(1)\n",
      "memory usage: 86.1+ KB\n",
      "None\n"
     ]
    }
   ],
   "source": [
    "# Display basic information about the dataset\n",
    "print(crops.info())"
   ]
  },
  {
   "cell_type": "markdown",
   "id": "133f6008-c0b3-4c84-866f-209856769238",
   "metadata": {},
   "source": [
    "The dataset comprises 2,200 entries with 5 columns: `\"N\"` (Nitrogen content), `\"P\"` (Phosphorus content), `\"K\"` (Potassium content), `\"ph\"` (pH value), and `\"crop\"` (crop type). Each column has no missing values, with `\"N\"`, `\"P\"`, and `\"K\"` stored as integers, `\"ph\"` as a float, and `\"crop\"` as an object. The dataset is well-structured, with consistent data types and complete entries, making it suitable for analysis."
   ]
  },
  {
   "cell_type": "code",
   "execution_count": 19,
   "id": "514385ca-9cc3-46ed-9f20-09d42a3daf08",
   "metadata": {
    "executionCancelledAt": null,
    "executionTime": 53,
    "lastExecutedAt": 1710243944763,
    "lastScheduledRunId": null,
    "lastSuccessfullyExecutedCode": "# Check for missing values\nmissing_values = crops.isnull().sum()\nprint(\"Missing Values:\\n\", missing_values)",
    "scrolled": true
   },
   "outputs": [
    {
     "name": "stdout",
     "output_type": "stream",
     "text": [
      "Missing Values:\n",
      " N       0\n",
      "P       0\n",
      "K       0\n",
      "ph      0\n",
      "crop    0\n",
      "dtype: int64\n"
     ]
    }
   ],
   "source": [
    "# Check for missing values\n",
    "missing_values = crops.isnull().sum()\n",
    "print(\"Missing Values:\\n\", missing_values)"
   ]
  },
  {
   "cell_type": "markdown",
   "id": "3e968635-b28c-414c-84b9-73f91139f73a",
   "metadata": {},
   "source": [
    "The analysis of the dataset `crops` reveals that there are no missing values in any of the columns. All fields—Nitrogen (`N`), Phosphorus (`P`), Potassium (`K`), pH, and Crop—are complete, indicating that the dataset is fully populated and ready for further analysis."
   ]
  },
  {
   "cell_type": "code",
   "execution_count": 20,
   "id": "b3878364-5a8b-4f36-8e99-82fb1e377418",
   "metadata": {
    "executionCancelledAt": null,
    "executionTime": 56,
    "lastExecutedAt": 1710243944819,
    "lastScheduledRunId": null,
    "lastSuccessfullyExecutedCode": "# Check unique crop types\nunique_crops = crops['crop'].unique()\nprint(\"Unique Crop Types:\\n\", unique_crops)"
   },
   "outputs": [
    {
     "name": "stdout",
     "output_type": "stream",
     "text": [
      "Unique Crop Types:\n",
      " ['rice' 'maize' 'chickpea' 'kidneybeans' 'pigeonpeas' 'mothbeans'\n",
      " 'mungbean' 'blackgram' 'lentil' 'pomegranate' 'banana' 'mango' 'grapes'\n",
      " 'watermelon' 'muskmelon' 'apple' 'orange' 'papaya' 'coconut' 'cotton'\n",
      " 'jute' 'coffee']\n"
     ]
    }
   ],
   "source": [
    "# Check unique crop types\n",
    "unique_crops = crops['crop'].unique()\n",
    "print(\"Unique Crop Types:\\n\", unique_crops)"
   ]
  },
  {
   "cell_type": "markdown",
   "id": "5d4e5a81-3558-4229-a496-af8de0a4d82c",
   "metadata": {},
   "source": [
    "The analysis reveals that the dataset contains a diverse range of crop types, including 21 distinct varieties. The crops span a wide spectrum, from staple grains such as rice and maize to fruits like pomegranate and mango, and other agricultural products like coffee and cotton. This variety suggests that the model will need to handle a broad classification task, accounting for different agricultural needs and optimal conditions for each crop type."
   ]
  },
  {
   "cell_type": "code",
   "execution_count": 21,
   "id": "5f0b9e20-fb87-47fd-93d2-afe4b6b14dc3",
   "metadata": {
    "executionCancelledAt": null,
    "executionTime": 50,
    "lastExecutedAt": 1710243944869,
    "lastScheduledRunId": null,
    "lastSuccessfullyExecutedCode": "# Step 2: Split the data\n\n# Features and target variable\nX = crops.drop('crop', axis=1)\ny = crops['crop']\n"
   },
   "outputs": [],
   "source": [
    "# Step 2: Split the data\n",
    "\n",
    "# Features and target variable\n",
    "X = crops.drop('crop', axis=1)\n",
    "y = crops['crop']\n"
   ]
  },
  {
   "cell_type": "code",
   "execution_count": 22,
   "id": "732d6088-2d10-431c-b078-b1a71c160a4a",
   "metadata": {
    "executionCancelledAt": null,
    "executionTime": 47,
    "lastExecutedAt": 1710243944917,
    "lastScheduledRunId": null,
    "lastSuccessfullyExecutedCode": "# Create training and test sets\nX_train, X_test, y_train, y_test = train_test_split(X, y, test_size=0.2, random_state=42)"
   },
   "outputs": [],
   "source": [
    "# Create training and test sets\n",
    "X_train, X_test, y_train, y_test = train_test_split(X, y, test_size=0.2, random_state=42)"
   ]
  },
  {
   "cell_type": "code",
   "execution_count": 23,
   "id": "b13272e4-011a-4932-9b3b-fbc0057fbbb5",
   "metadata": {
    "executionCancelledAt": null,
    "executionTime": 29684,
    "lastExecutedAt": 1710243974602,
    "lastScheduledRunId": null,
    "lastSuccessfullyExecutedCode": "# Step 3: Evaluate feature performance\n\n# Create a dictionary to store each feature's predictive performance\nbest_predictive_feature = {}\n\n# Loop through the features\nfor feature in X.columns:\n    # Create and train the logistic regression model\n    model = LogisticRegression(max_iter=1000)\n    model.fit(X_train[[feature]], y_train)\n    \n    # Predict target values using the test set\n    y_pred = model.predict(X_test[[feature]])\n    \n    # Evaluate the performance of the feature using accuracy as the metric\n    accuracy = metrics.accuracy_score(y_test, y_pred)\n    \n    # Store the feature name and the respective model's evaluation score\n    best_predictive_feature[feature] = accuracy\n"
   },
   "outputs": [],
   "source": [
    "# Step 3: Evaluate feature performance\n",
    "\n",
    "# Create a dictionary to store each feature's predictive performance\n",
    "best_predictive_feature = {}\n",
    "\n",
    "# Loop through the features\n",
    "for feature in X.columns:\n",
    "    # Create and train the logistic regression model\n",
    "    model = LogisticRegression(max_iter=1000)\n",
    "    model.fit(X_train[[feature]], y_train)\n",
    "    \n",
    "    # Predict target values using the test set\n",
    "    y_pred = model.predict(X_test[[feature]])\n",
    "    \n",
    "    # Evaluate the performance of the feature using accuracy as the metric\n",
    "    accuracy = metrics.accuracy_score(y_test, y_pred)\n",
    "    \n",
    "    # Store the feature name and the respective model's evaluation score\n",
    "    best_predictive_feature[feature] = accuracy\n"
   ]
  },
  {
   "cell_type": "code",
   "execution_count": 24,
   "id": "8b3c87c1-f4b6-47a4-a62d-b67c9abbd664",
   "metadata": {
    "executionCancelledAt": null,
    "executionTime": 51,
    "lastExecutedAt": 1710243974655,
    "lastScheduledRunId": null,
    "lastSuccessfullyExecutedCode": "# Step 4: Create the best_predictive_feature variable\n\n# Identify the feature with the highest accuracy\nbest_feature_name = max(best_predictive_feature, key=best_predictive_feature.get)\nbest_score = best_predictive_feature[best_feature_name]\n\n# Create the best_predictive_feature variable\nbest_predictive_feature = {best_feature_name: best_score}\n\n# Display the best predictive feature\nprint(\"Best Predictive Feature:\", best_predictive_feature)\n"
   },
   "outputs": [
    {
     "name": "stdout",
     "output_type": "stream",
     "text": [
      "Best Predictive Feature: {'K': 0.25681818181818183}\n"
     ]
    }
   ],
   "source": [
    "# Step 4: Create the best_predictive_feature variable\n",
    "\n",
    "# Identify the feature with the highest accuracy\n",
    "best_feature_name = max(best_predictive_feature, key=best_predictive_feature.get)\n",
    "best_score = best_predictive_feature[best_feature_name]\n",
    "\n",
    "# Create the best_predictive_feature variable\n",
    "best_predictive_feature = {best_feature_name: best_score}\n",
    "\n",
    "# Display the best predictive feature\n",
    "print(\"Best Predictive Feature:\", best_predictive_feature)\n"
   ]
  },
  {
   "cell_type": "markdown",
   "id": "fe4af4fe-e24e-42e3-8e45-0a5fdafb4a7e",
   "metadata": {},
   "source": [
    "The code identifies the most predictive feature for the model from a set of features by comparing their accuracy scores. The displayed data reveals that the feature with the highest predictive accuracy is `\"K\"`, which refers to the potassium content in the soil. This feature achieved an accuracy score of approximately 0.257, indicating that potassium levels are the most important factor among the measured features for predicting the optimal crop in this dataset."
   ]
  }
 ],
 "metadata": {
  "colab": {
   "name": "Welcome to DataCamp Workspaces.ipynb",
   "provenance": []
  },
  "kernelspec": {
   "display_name": "Python 3 (ipykernel)",
   "language": "python",
   "name": "python3"
  },
  "language_info": {
   "codemirror_mode": {
    "name": "ipython",
    "version": 3
   },
   "file_extension": ".py",
   "mimetype": "text/x-python",
   "name": "python",
   "nbconvert_exporter": "python",
   "pygments_lexer": "ipython3",
   "version": "3.10.13"
  }
 },
 "nbformat": 4,
 "nbformat_minor": 5
}
